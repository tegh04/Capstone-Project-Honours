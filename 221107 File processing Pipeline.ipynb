{
 "cells": [
  {
   "cell_type": "code",
   "execution_count": 1,
   "id": "8f03c3b0",
   "metadata": {},
   "outputs": [],
   "source": [
    "# standard python libraries\n",
    "import numpy as np\n",
    "import pandas as pd\n",
    "import matplotlib.pyplot as plt\n",
    "import os\n",
    "import sys"
   ]
  },
  {
   "cell_type": "code",
   "execution_count": 2,
   "id": "2dabdb8c",
   "metadata": {},
   "outputs": [],
   "source": [
    "# Used to find the area of platelets\n",
    "import scipy.spatial as ss"
   ]
  },
  {
   "cell_type": "code",
   "execution_count": 3,
   "id": "926f55b5",
   "metadata": {},
   "outputs": [],
   "source": [
    "# cellpose library for cell-like object segmentation\n",
    "from cellpose import io\n",
    "from cellpose import models\n",
    "from cellpose.io import imread\n",
    "from cellpose import plot, utils"
   ]
  },
  {
   "cell_type": "code",
   "execution_count": 4,
   "id": "578c6ae9",
   "metadata": {},
   "outputs": [],
   "source": [
    "# Control display of images\n",
    "from IPython import display"
   ]
  },
  {
   "cell_type": "code",
   "execution_count": null,
   "id": "1eed8964",
   "metadata": {},
   "outputs": [],
   "source": []
  },
  {
   "cell_type": "code",
   "execution_count": 5,
   "id": "cbe28e47",
   "metadata": {},
   "outputs": [],
   "source": [
    "from datetime import date\n",
    "\n",
    "today = date.today()\n",
    "today = today.strftime(\"%y%m%d\")"
   ]
  },
  {
   "cell_type": "code",
   "execution_count": 6,
   "id": "1366f5d9",
   "metadata": {},
   "outputs": [
    {
     "data": {
      "text/plain": [
       "'221105'"
      ]
     },
     "execution_count": 6,
     "metadata": {},
     "output_type": "execute_result"
    }
   ],
   "source": [
    "today"
   ]
  },
  {
   "cell_type": "code",
   "execution_count": null,
   "id": "9ef208fd",
   "metadata": {},
   "outputs": [],
   "source": []
  },
  {
   "cell_type": "code",
   "execution_count": null,
   "id": "32493c17",
   "metadata": {},
   "outputs": [],
   "source": []
  },
  {
   "cell_type": "markdown",
   "id": "6e674cd8",
   "metadata": {},
   "source": [
    "### Cell segmentation"
   ]
  },
  {
   "cell_type": "code",
   "execution_count": 7,
   "id": "bf25d3c1",
   "metadata": {},
   "outputs": [],
   "source": [
    "\"\"\"\n",
    "Convert a RGB images into a greyscale images. We assume that the images follow linear RGB \n",
    "format. \n",
    "\"\"\"\n",
    "\n",
    "def rgb2gray(rgb):\n",
    "    \n",
    "    rgb[0, :, :] = rgb[0, :, :] * 0.2989\n",
    "    rgb[1, :, :] = rgb[1, :, :] * 0.5870\n",
    "    rgb[2, :, :] = rgb[2, :, :] * 0.1140\n",
    "    \n",
    "    return np.sum(rgb, axis = 0)"
   ]
  },
  {
   "cell_type": "code",
   "execution_count": 8,
   "id": "484ec901",
   "metadata": {
    "scrolled": false
   },
   "outputs": [],
   "source": [
    "\"\"\"\n",
    "Inputs: \n",
    "- file: The location of file. Should contain .tif data\n",
    "\n",
    "Outputs: Saves a file to local PC containing the segmentation data\n",
    "\"\"\"\n",
    "\n",
    "def cell_segmentation(file):\n",
    "    global file_counter\n",
    "    \n",
    "    file_pathway = r'C:\\Users\\Gursharan\\Documents\\SPR 2022\\Engineering Capstone\\capstone\\segmentation'\n",
    "    \n",
    "    # model_type='cyto' or 'nuclei' or 'cyto2'\n",
    "    model = models.Cellpose(model_type='cyto')  # cyto: cellpose data vs cyto2: cellpose + user data\n",
    "\n",
    "    # list of files\n",
    "    # PUT PATH TO YOUR FILES HERE!\n",
    "\n",
    "\n",
    "    images = imread(file) \n",
    "    images = images[299, 3, :, :]\n",
    "\n",
    "\n",
    "    # define CHANNELS to run segementation on\n",
    "    # grayscale=0, R=1, G=2, B=3\n",
    "    # channels = [cytoplasm, nucleus]\n",
    "    # if NUCLEUS channel does not exist, set the second channel to 0\n",
    "    channels = [[0,0]]\n",
    "    # IF ALL YOUR IMAGES ARE THE SAME TYPE, you can give a list with 2 elements\n",
    "    # channels = [0,0] # IF YOU HAVE GRAYSCALE\n",
    "    # channels = [2,3] # IF YOU HAVE G=cytoplasm and B=nucleus\n",
    "    # channels = [2,1] # IF YOU HAVE G=cytoplasm and R=nucleus\n",
    "\n",
    "    # if diameter is set to None, the size of the cells is estimated on a per image basis\n",
    "    # you can set the average cell `diameter` in pixels yourself (recommended)\n",
    "    # diameter can be a list or a single number for all images\n",
    "\n",
    "    masks, flows, styles, diams = model.eval(images, diameter=40, channels=channels)\n",
    "    io.masks_flows_to_seg(images, masks, flows, diams, f'{file_pathway}\\\\{today}_model_{file_counter}_.npy', channels)\n",
    "    \n",
    "    file_counter = file_counter+1\n",
    "    "
   ]
  },
  {
   "cell_type": "code",
   "execution_count": null,
   "id": "ec23f9cc",
   "metadata": {},
   "outputs": [],
   "source": []
  },
  {
   "cell_type": "code",
   "execution_count": null,
   "id": "76a0bb22",
   "metadata": {},
   "outputs": [],
   "source": []
  },
  {
   "cell_type": "markdown",
   "id": "d56f8319",
   "metadata": {},
   "source": [
    "### Annotate the Image "
   ]
  },
  {
   "cell_type": "code",
   "execution_count": 9,
   "id": "a15c84b5",
   "metadata": {},
   "outputs": [],
   "source": [
    "\"\"\"\n",
    "Descripton: Annotate the image\n",
    "\n",
    "Classification Scheme:\n",
    "\n",
    "1: Platelet inactivated\n",
    "2: Fileopodia of platelet visible\n",
    "3: Platelet fully enlarged\n",
    "\n",
    "Inputs: file containing segmentation data (.npy file extension)\n",
    "Outputs: Annotation of the file\n",
    "\n",
    "\"\"\"\n",
    "\n",
    "def annotate(file):\n",
    "\n",
    "    # load the file with segmentation results\n",
    "    dat = np.load(file, allow_pickle=True).item()\n",
    "\n",
    "    # plot image with outlines overlaid in red\n",
    "    outlines = utils.outlines_list(dat['masks'])\n",
    "\n",
    "    # Store classification of platelets in target\n",
    "    annotation = []\n",
    "\n",
    "    # Plot each cell with segmentation boundary shown in red. \n",
    "    # The user inputs a classification for each boundary\n",
    "    \n",
    "    for o in outlines:\n",
    "        plt.figure()\n",
    "        plt.imshow(dat['img'])\n",
    "        plt.plot(o[:,0], o[:,1], color='r')\n",
    "        plt.show()\n",
    "\n",
    "        classification = int(input())\n",
    "        annotation.append(classification)\n",
    "\n",
    "        display.clear_output()\n",
    "        \n",
    "    return annotation"
   ]
  },
  {
   "cell_type": "code",
   "execution_count": null,
   "id": "f6035726",
   "metadata": {},
   "outputs": [],
   "source": []
  },
  {
   "cell_type": "code",
   "execution_count": 10,
   "id": "bfebc648",
   "metadata": {},
   "outputs": [],
   "source": [
    "\"\"\"\n",
    "Description: Get the area for each cell\n",
    "\n",
    "Input: file pathway or file name\n",
    "Output: List of areas\n",
    "\n",
    "\"\"\"\n",
    "def get_area(file):\n",
    "    \n",
    "    # get outlines from file\n",
    "    dat = np.load(file, allow_pickle=True).item()\n",
    "    outlines = utils.outlines_list(dat['masks'])\n",
    "    \n",
    "    # For each boundary compute the area\n",
    "    area = []\n",
    "    for points in outlines:\n",
    "        hull = ss.ConvexHull(points)\n",
    "        area.append(hull.area)\n",
    "    \n",
    "    return area"
   ]
  },
  {
   "cell_type": "code",
   "execution_count": null,
   "id": "e45a226b",
   "metadata": {},
   "outputs": [],
   "source": []
  },
  {
   "cell_type": "code",
   "execution_count": 11,
   "id": "dd5c8d1a",
   "metadata": {},
   "outputs": [],
   "source": [
    "def get_all_filepaths(directory):\n",
    "  \n",
    "    # initializing empty file paths list\n",
    "    file_paths = []\n",
    "  \n",
    "    # crawling through directory and subdirectories\n",
    "    for root, directories, files in os.walk(directory):\n",
    "        for filename in files:\n",
    "            # join the two strings in order to form the full filepath.\n",
    "            filepath = os.path.join(root, filename)    \n",
    "            file_paths.append(filepath)\n",
    "            \n",
    "    # returning all file paths\n",
    "    return file_paths"
   ]
  },
  {
   "cell_type": "code",
   "execution_count": null,
   "id": "c54d7fff",
   "metadata": {},
   "outputs": [],
   "source": []
  },
  {
   "cell_type": "code",
   "execution_count": 12,
   "id": "170accd9",
   "metadata": {},
   "outputs": [],
   "source": [
    "def file_processing_pipeline(file_pathways):\n",
    "    \n",
    "    df_list = [] # Store each of df generate from annotating the images here \n",
    "    seg_file_pathway = r'C:\\Users\\Gursharan\\Documents\\SPR 2022\\Engineering Capstone\\capstone\\segmentation\\\\'\n",
    "    \n",
    "    \n",
    "    data_file_names = [] # We will store file names  here\n",
    "    \n",
    "    # Get data file_names\n",
    "    for filepath in file_pathways:\n",
    "        data_file_names.append(os.path.basename(filepath))\n",
    "    \n",
    "    \n",
    "    # Create segmentation files\n",
    "    for filepath in file_pathways:\n",
    "        cell_segmentation(filepath)\n",
    "    \n",
    "        \n",
    "    # os.path.basename(your_path)\n",
    "\n",
    "    segmentation_files = get_all_filepaths(seg_file_pathway)\n",
    "\n",
    "    # We will use i to loop through data_file_names, s_files loops through segmentation_filepaths\n",
    "    for i, s_file in enumerate(segmentation_files):\n",
    "        target = annotate(s_file)\n",
    "        area = get_area(s_file)\n",
    "\n",
    "        df = pd.DataFrame({'area':area, 'target':target, 'file_names':data_file_names[i]})\n",
    "        df_list.append(df)\n",
    "        \n",
    "    \n",
    "    final_df = pd.concat(df_list, axis=0, ignore_index=True)\n",
    "    \n",
    "    return final_df"
   ]
  },
  {
   "cell_type": "code",
   "execution_count": null,
   "id": "e23abe52",
   "metadata": {},
   "outputs": [],
   "source": []
  },
  {
   "cell_type": "code",
   "execution_count": null,
   "id": "66758c87",
   "metadata": {},
   "outputs": [],
   "source": []
  },
  {
   "cell_type": "code",
   "execution_count": 13,
   "id": "d2662869",
   "metadata": {},
   "outputs": [],
   "source": [
    "list_of_files = get_all_filepaths(r'C:\\Users\\Gursharan\\Documents\\SPR 2022\\Engineering Capstone\\capstone\\data files')\n",
    "\n",
    "\n",
    "file_counter = 0 # use in cell_segmentation function\n",
    "\n",
    "df = file_processing_pipeline(list_of_files)"
   ]
  },
  {
   "cell_type": "code",
   "execution_count": null,
   "id": "f2ffbc39",
   "metadata": {},
   "outputs": [],
   "source": []
  },
  {
   "cell_type": "code",
   "execution_count": 18,
   "id": "86401169",
   "metadata": {},
   "outputs": [],
   "source": [
    "df.to_csv('221023_platelet.csv', index=False)"
   ]
  },
  {
   "cell_type": "code",
   "execution_count": 4,
   "id": "fd3cd71d",
   "metadata": {},
   "outputs": [],
   "source": [
    "df = pd.read_csv('221023_platelet.csv')"
   ]
  },
  {
   "cell_type": "code",
   "execution_count": 5,
   "id": "e5a964bf",
   "metadata": {},
   "outputs": [
    {
     "data": {
      "text/html": [
       "<div>\n",
       "<style scoped>\n",
       "    .dataframe tbody tr th:only-of-type {\n",
       "        vertical-align: middle;\n",
       "    }\n",
       "\n",
       "    .dataframe tbody tr th {\n",
       "        vertical-align: top;\n",
       "    }\n",
       "\n",
       "    .dataframe thead th {\n",
       "        text-align: right;\n",
       "    }\n",
       "</style>\n",
       "<table border=\"1\" class=\"dataframe\">\n",
       "  <thead>\n",
       "    <tr style=\"text-align: right;\">\n",
       "      <th></th>\n",
       "      <th>area</th>\n",
       "      <th>target</th>\n",
       "    </tr>\n",
       "  </thead>\n",
       "  <tbody>\n",
       "    <tr>\n",
       "      <th>0</th>\n",
       "      <td>88.960006</td>\n",
       "      <td>2</td>\n",
       "    </tr>\n",
       "    <tr>\n",
       "      <th>1</th>\n",
       "      <td>106.750445</td>\n",
       "      <td>2</td>\n",
       "    </tr>\n",
       "    <tr>\n",
       "      <th>2</th>\n",
       "      <td>142.830257</td>\n",
       "      <td>2</td>\n",
       "    </tr>\n",
       "    <tr>\n",
       "      <th>3</th>\n",
       "      <td>115.143003</td>\n",
       "      <td>2</td>\n",
       "    </tr>\n",
       "    <tr>\n",
       "      <th>4</th>\n",
       "      <td>127.840473</td>\n",
       "      <td>3</td>\n",
       "    </tr>\n",
       "  </tbody>\n",
       "</table>\n",
       "</div>"
      ],
      "text/plain": [
       "         area  target\n",
       "0   88.960006       2\n",
       "1  106.750445       2\n",
       "2  142.830257       2\n",
       "3  115.143003       2\n",
       "4  127.840473       3"
      ]
     },
     "execution_count": 5,
     "metadata": {},
     "output_type": "execute_result"
    }
   ],
   "source": [
    "df.head()"
   ]
  },
  {
   "cell_type": "code",
   "execution_count": null,
   "id": "123c1675",
   "metadata": {},
   "outputs": [],
   "source": []
  }
 ],
 "metadata": {
  "kernelspec": {
   "display_name": "capstone",
   "language": "python",
   "name": "python3"
  },
  "language_info": {
   "codemirror_mode": {
    "name": "ipython",
    "version": 3
   },
   "file_extension": ".py",
   "mimetype": "text/x-python",
   "name": "python",
   "nbconvert_exporter": "python",
   "pygments_lexer": "ipython3",
   "version": "3.10.6"
  }
 },
 "nbformat": 4,
 "nbformat_minor": 5
}
